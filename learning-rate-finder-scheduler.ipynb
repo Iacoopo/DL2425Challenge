{
 "cells": [
  {
   "cell_type": "code",
   "execution_count": 1,
   "id": "9afd5360",
   "metadata": {
    "_cell_guid": "0c54936a-1335-43a7-83b3-0ab052a91ca3",
    "_uuid": "aace6aab-06db-4a73-8cc7-580f79aa9f55",
    "collapsed": false,
    "execution": {
     "iopub.execute_input": "2024-12-04T23:14:50.716514Z",
     "iopub.status.busy": "2024-12-04T23:14:50.716160Z",
     "iopub.status.idle": "2024-12-04T23:14:56.132984Z",
     "shell.execute_reply": "2024-12-04T23:14:56.132015Z"
    },
    "jupyter": {
     "outputs_hidden": false
    },
    "papermill": {
     "duration": 5.426595,
     "end_time": "2024-12-04T23:14:56.135102",
     "exception": false,
     "start_time": "2024-12-04T23:14:50.708507",
     "status": "completed"
    },
    "tags": []
   },
   "outputs": [],
   "source": [
    "import torch\n",
    "import torch.nn as nn\n",
    "import torch.optim as optim\n",
    "from torchvision import datasets, transforms, models\n",
    "from torch.utils.data import DataLoader\n",
    "import matplotlib.pyplot as plt\n",
    "from sklearn.metrics import confusion_matrix, ConfusionMatrixDisplay\n",
    "import numpy as np\n",
    "import math\n",
    "import copy"
   ]
  },
  {
   "cell_type": "code",
   "execution_count": 2,
   "id": "aae46874",
   "metadata": {
    "execution": {
     "iopub.execute_input": "2024-12-04T23:14:56.143404Z",
     "iopub.status.busy": "2024-12-04T23:14:56.142732Z",
     "iopub.status.idle": "2024-12-04T23:14:56.208149Z",
     "shell.execute_reply": "2024-12-04T23:14:56.207201Z"
    },
    "papermill": {
     "duration": 0.071397,
     "end_time": "2024-12-04T23:14:56.210057",
     "exception": false,
     "start_time": "2024-12-04T23:14:56.138660",
     "status": "completed"
    },
    "tags": []
   },
   "outputs": [
    {
     "name": "stdout",
     "output_type": "stream",
     "text": [
      "Using device: cuda\n"
     ]
    }
   ],
   "source": [
    "device = torch.device('cuda' if torch.cuda.is_available() else 'cpu')\n",
    "print(f'Using device: {device}')"
   ]
  },
  {
   "cell_type": "code",
   "execution_count": 3,
   "id": "4b4187dc",
   "metadata": {
    "execution": {
     "iopub.execute_input": "2024-12-04T23:14:56.218940Z",
     "iopub.status.busy": "2024-12-04T23:14:56.218624Z",
     "iopub.status.idle": "2024-12-04T23:14:56.223551Z",
     "shell.execute_reply": "2024-12-04T23:14:56.222706Z"
    },
    "papermill": {
     "duration": 0.010966,
     "end_time": "2024-12-04T23:14:56.225270",
     "exception": false,
     "start_time": "2024-12-04T23:14:56.214304",
     "status": "completed"
    },
    "tags": []
   },
   "outputs": [],
   "source": [
    "# Data transformations\n",
    "train_transforms = transforms.Compose([\n",
    "    transforms.Resize((224, 224)),\n",
    "    transforms.RandomHorizontalFlip(),\n",
    "    transforms.RandomRotation(10),\n",
    "    transforms.ToTensor(),\n",
    "])\n",
    "\n",
    "val_transforms = transforms.Compose([\n",
    "    transforms.Resize((224, 224)),\n",
    "    transforms.ToTensor(),\n",
    "])"
   ]
  },
  {
   "cell_type": "code",
   "execution_count": 4,
   "id": "eb3e730d",
   "metadata": {
    "execution": {
     "iopub.execute_input": "2024-12-04T23:14:56.232609Z",
     "iopub.status.busy": "2024-12-04T23:14:56.232345Z",
     "iopub.status.idle": "2024-12-04T23:15:03.640039Z",
     "shell.execute_reply": "2024-12-04T23:15:03.639083Z"
    },
    "papermill": {
     "duration": 7.413623,
     "end_time": "2024-12-04T23:15:03.642161",
     "exception": false,
     "start_time": "2024-12-04T23:14:56.228538",
     "status": "completed"
    },
    "tags": []
   },
   "outputs": [],
   "source": [
    "# Load datasets\n",
    "train_dataset = datasets.ImageFolder(\n",
    "    root='/kaggle/input/sapienza-dl2425-challenge/dl2425_challenge_dataset/train', \n",
    "    transform=train_transforms\n",
    ")\n",
    "val_dataset = datasets.ImageFolder(\n",
    "    root='/kaggle/input/sapienza-dl2425-challenge/dl2425_challenge_dataset/val', \n",
    "    transform=val_transforms\n",
    ")"
   ]
  },
  {
   "cell_type": "code",
   "execution_count": 5,
   "id": "e9aa8a51",
   "metadata": {
    "execution": {
     "iopub.execute_input": "2024-12-04T23:15:03.651060Z",
     "iopub.status.busy": "2024-12-04T23:15:03.650767Z",
     "iopub.status.idle": "2024-12-04T23:15:03.655147Z",
     "shell.execute_reply": "2024-12-04T23:15:03.654379Z"
    },
    "papermill": {
     "duration": 0.010139,
     "end_time": "2024-12-04T23:15:03.656804",
     "exception": false,
     "start_time": "2024-12-04T23:15:03.646665",
     "status": "completed"
    },
    "tags": []
   },
   "outputs": [],
   "source": [
    "batch_size = 32\n",
    "\n",
    "train_loader = DataLoader(train_dataset, batch_size=batch_size, shuffle=True, num_workers=4)\n",
    "val_loader = DataLoader(val_dataset, batch_size=batch_size, shuffle=False, num_workers=4)"
   ]
  },
  {
   "cell_type": "code",
   "execution_count": 6,
   "id": "f76eabd0",
   "metadata": {
    "execution": {
     "iopub.execute_input": "2024-12-04T23:15:03.664394Z",
     "iopub.status.busy": "2024-12-04T23:15:03.663925Z",
     "iopub.status.idle": "2024-12-04T23:15:04.434791Z",
     "shell.execute_reply": "2024-12-04T23:15:04.433966Z"
    },
    "papermill": {
     "duration": 0.776842,
     "end_time": "2024-12-04T23:15:04.436880",
     "exception": false,
     "start_time": "2024-12-04T23:15:03.660038",
     "status": "completed"
    },
    "tags": []
   },
   "outputs": [
    {
     "name": "stderr",
     "output_type": "stream",
     "text": [
      "/opt/conda/lib/python3.10/site-packages/torchvision/models/_utils.py:208: UserWarning: The parameter 'pretrained' is deprecated since 0.13 and may be removed in the future, please use 'weights' instead.\n",
      "  warnings.warn(\n",
      "/opt/conda/lib/python3.10/site-packages/torchvision/models/_utils.py:223: UserWarning: Arguments other than a weight enum or `None` for 'weights' are deprecated since 0.13 and may be removed in the future. The current behavior is equivalent to passing `weights=ResNet18_Weights.IMAGENET1K_V1`. You can also use `weights=ResNet18_Weights.DEFAULT` to get the most up-to-date weights.\n",
      "  warnings.warn(msg)\n",
      "Downloading: \"https://download.pytorch.org/models/resnet18-f37072fd.pth\" to /root/.cache/torch/hub/checkpoints/resnet18-f37072fd.pth\n",
      "100%|██████████| 44.7M/44.7M [00:00<00:00, 184MB/s]\n"
     ]
    }
   ],
   "source": [
    "# Initialize the model\n",
    "model = models.resnet18(pretrained=True)\n",
    "num_features = model.fc.in_features\n",
    "model.fc = nn.Linear(num_features, 1)\n",
    "model = model.to(device)"
   ]
  },
  {
   "cell_type": "code",
   "execution_count": 7,
   "id": "ec3f4a1d",
   "metadata": {
    "execution": {
     "iopub.execute_input": "2024-12-04T23:15:04.445923Z",
     "iopub.status.busy": "2024-12-04T23:15:04.445339Z",
     "iopub.status.idle": "2024-12-04T23:15:04.449488Z",
     "shell.execute_reply": "2024-12-04T23:15:04.448668Z"
    },
    "papermill": {
     "duration": 0.010387,
     "end_time": "2024-12-04T23:15:04.451183",
     "exception": false,
     "start_time": "2024-12-04T23:15:04.440796",
     "status": "completed"
    },
    "tags": []
   },
   "outputs": [],
   "source": [
    "criterion = nn.BCEWithLogitsLoss()"
   ]
  },
  {
   "cell_type": "code",
   "execution_count": 8,
   "id": "5bcb07f7",
   "metadata": {
    "execution": {
     "iopub.execute_input": "2024-12-04T23:15:04.459363Z",
     "iopub.status.busy": "2024-12-04T23:15:04.459121Z",
     "iopub.status.idle": "2024-12-04T23:15:04.465998Z",
     "shell.execute_reply": "2024-12-04T23:15:04.465226Z"
    },
    "papermill": {
     "duration": 0.012814,
     "end_time": "2024-12-04T23:15:04.467674",
     "exception": false,
     "start_time": "2024-12-04T23:15:04.454860",
     "status": "completed"
    },
    "tags": []
   },
   "outputs": [],
   "source": [
    "def find_learning_rate(model, criterion, optimizer, dataloader, device, init_value=1e-8, final_value=10., beta=0.98):\n",
    "    num = len(dataloader) - 1\n",
    "    mult = (final_value / init_value) ** (1/num)\n",
    "    lr = init_value\n",
    "    optimizer.param_groups[0]['lr'] = lr\n",
    "    avg_loss = 0.0\n",
    "    best_loss = float('inf')\n",
    "    batch_num = 0\n",
    "    losses = []\n",
    "    log_lrs = []\n",
    "    for data in dataloader:\n",
    "        batch_num += 1\n",
    "        # Get the inputs and labels\n",
    "        inputs, labels = data\n",
    "        inputs = inputs.to(device)\n",
    "        labels = labels.float().unsqueeze(1).to(device)\n",
    "        # Zero gradients\n",
    "        optimizer.zero_grad()\n",
    "        # Forward pass\n",
    "        outputs = model(inputs)\n",
    "        loss = criterion(outputs, labels)\n",
    "        # Compute the smoothed loss\n",
    "        avg_loss = beta * avg_loss + (1 - beta) * loss.item()\n",
    "        smoothed_loss = avg_loss / (1 - beta ** batch_num)\n",
    "        # Record the best loss\n",
    "        if smoothed_loss < best_loss:\n",
    "            best_loss = smoothed_loss\n",
    "        # Stop if the loss is exploding\n",
    "        if batch_num > 1 and smoothed_loss > 4 * best_loss:\n",
    "            break\n",
    "        # Record the values\n",
    "        losses.append(smoothed_loss)\n",
    "        log_lrs.append(math.log10(lr))\n",
    "        # Backward pass and optimizer step\n",
    "        loss.backward()\n",
    "        optimizer.step()\n",
    "        # Update the learning rate\n",
    "        lr *= mult\n",
    "        optimizer.param_groups[0]['lr'] = lr\n",
    "    return log_lrs, losses"
   ]
  },
  {
   "cell_type": "code",
   "execution_count": 9,
   "id": "830d4436",
   "metadata": {
    "execution": {
     "iopub.execute_input": "2024-12-04T23:15:04.475648Z",
     "iopub.status.busy": "2024-12-04T23:15:04.475378Z",
     "iopub.status.idle": "2024-12-04T23:15:24.422026Z",
     "shell.execute_reply": "2024-12-04T23:15:24.420921Z"
    },
    "papermill": {
     "duration": 19.953083,
     "end_time": "2024-12-04T23:15:24.424230",
     "exception": false,
     "start_time": "2024-12-04T23:15:04.471147",
     "status": "completed"
    },
    "tags": []
   },
   "outputs": [],
   "source": [
    "# Copy the model to avoid altering the original\n",
    "model_lr_find = copy.deepcopy(model)\n",
    "model_lr_find.train()\n",
    "\n",
    "# Define an optimizer with a very small initial learning rate\n",
    "optimizer_lr_find = optim.Adam(model_lr_find.parameters(), lr=1e-8)\n",
    "\n",
    "# Run the Learning Rate Finder\n",
    "log_lrs, losses = find_learning_rate(model_lr_find, criterion, optimizer_lr_find, train_loader, device)"
   ]
  },
  {
   "cell_type": "code",
   "execution_count": 10,
   "id": "e81ba059",
   "metadata": {
    "execution": {
     "iopub.execute_input": "2024-12-04T23:15:24.432865Z",
     "iopub.status.busy": "2024-12-04T23:15:24.432574Z",
     "iopub.status.idle": "2024-12-04T23:15:24.704421Z",
     "shell.execute_reply": "2024-12-04T23:15:24.703518Z"
    },
    "papermill": {
     "duration": 0.278065,
     "end_time": "2024-12-04T23:15:24.706012",
     "exception": false,
     "start_time": "2024-12-04T23:15:24.427947",
     "status": "completed"
    },
    "tags": []
   },
   "outputs": [
    {
     "data": {
      "image/png": "[encoded data removed]",
      "text/plain": [
       "<Figure size 1000x600 with 1 Axes>"
      ]
     },
     "metadata": {},
     "output_type": "display_data"
    }
   ],
   "source": [
    "# Plot the loss vs. learning rate\n",
    "plt.figure(figsize=(10, 6))\n",
    "plt.plot(log_lrs[10:-5], losses[10:-5])\n",
    "plt.xlabel('Log Learning Rate')\n",
    "plt.ylabel('Loss')\n",
    "plt.title('Learning Rate Finder')\n",
    "plt.show()"
   ]
  },
  {
   "cell_type": "markdown",
   "id": "e38155a9",
   "metadata": {
    "papermill": {
     "duration": 0.003859,
     "end_time": "2024-12-04T23:15:24.714065",
     "exception": false,
     "start_time": "2024-12-04T23:15:24.710206",
     "status": "completed"
    },
    "tags": []
   },
   "source": [
    "There are different approaches but to ensure stability the Lr should be in between e-5 and e-4"
   ]
  },
  {
   "cell_type": "code",
   "execution_count": 11,
   "id": "46103ddd",
   "metadata": {
    "execution": {
     "iopub.execute_input": "2024-12-04T23:15:24.723056Z",
     "iopub.status.busy": "2024-12-04T23:15:24.722804Z",
     "iopub.status.idle": "2024-12-04T23:15:24.726548Z",
     "shell.execute_reply": "2024-12-04T23:15:24.725734Z"
    },
    "papermill": {
     "duration": 0.010034,
     "end_time": "2024-12-04T23:15:24.728069",
     "exception": false,
     "start_time": "2024-12-04T23:15:24.718035",
     "status": "completed"
    },
    "tags": []
   },
   "outputs": [],
   "source": [
    "initial_lr = 1e-5"
   ]
  },
  {
   "cell_type": "code",
   "execution_count": 12,
   "id": "3e89e54c",
   "metadata": {
    "execution": {
     "iopub.execute_input": "2024-12-04T23:15:24.737510Z",
     "iopub.status.busy": "2024-12-04T23:15:24.736837Z",
     "iopub.status.idle": "2024-12-04T23:15:24.741483Z",
     "shell.execute_reply": "2024-12-04T23:15:24.740684Z"
    },
    "papermill": {
     "duration": 0.010873,
     "end_time": "2024-12-04T23:15:24.743012",
     "exception": false,
     "start_time": "2024-12-04T23:15:24.732139",
     "status": "completed"
    },
    "tags": []
   },
   "outputs": [],
   "source": [
    "# Define the optimizer and scheduler\n",
    "optimizer = optim.Adam(model.parameters(), lr=initial_lr, weight_decay=1e-5)\n",
    "scheduler = optim.lr_scheduler.ReduceLROnPlateau(optimizer, mode='min', factor=0.5, patience=1)"
   ]
  },
  {
   "cell_type": "code",
   "execution_count": 13,
   "id": "dc330ecd",
   "metadata": {
    "execution": {
     "iopub.execute_input": "2024-12-04T23:15:24.752077Z",
     "iopub.status.busy": "2024-12-04T23:15:24.751652Z",
     "iopub.status.idle": "2024-12-04T23:24:25.827747Z",
     "shell.execute_reply": "2024-12-04T23:24:25.826640Z"
    },
    "papermill": {
     "duration": 541.082439,
     "end_time": "2024-12-04T23:24:25.829416",
     "exception": false,
     "start_time": "2024-12-04T23:15:24.746977",
     "status": "completed"
    },
    "tags": []
   },
   "outputs": [
    {
     "name": "stdout",
     "output_type": "stream",
     "text": [
      "Epoch 1/20, Training Loss: 0.2078\n",
      "Current Learning Rate: 1e-05\n",
      "Saved Best Model at Epoch 1\n",
      "Validation Loss: 0.0723, Validation Accuracy: 0.9798\n",
      "Epoch 2/20, Training Loss: 0.0772\n",
      "Current Learning Rate: 1e-05\n",
      "Saved Best Model at Epoch 2\n",
      "Validation Loss: 0.0557, Validation Accuracy: 0.9827\n",
      "Epoch 3/20, Training Loss: 0.0621\n",
      "Current Learning Rate: 1e-05\n",
      "Saved Best Model at Epoch 3\n",
      "Validation Loss: 0.0501, Validation Accuracy: 0.9849\n",
      "Epoch 4/20, Training Loss: 0.0535\n",
      "Current Learning Rate: 1e-05\n",
      "Saved Best Model at Epoch 4\n",
      "Validation Loss: 0.0453, Validation Accuracy: 0.9862\n",
      "Epoch 5/20, Training Loss: 0.0418\n",
      "Current Learning Rate: 1e-05\n",
      "Saved Best Model at Epoch 5\n",
      "Validation Loss: 0.0443, Validation Accuracy: 0.9865\n",
      "Epoch 6/20, Training Loss: 0.0375\n",
      "Current Learning Rate: 1e-05\n",
      "Validation Loss: 0.0499, Validation Accuracy: 0.9843\n",
      "Epoch 7/20, Training Loss: 0.0335\n",
      "Current Learning Rate: 5e-06\n",
      "Validation Loss: 0.0467, Validation Accuracy: 0.9849\n",
      "Epoch 8/20, Training Loss: 0.0283\n",
      "Current Learning Rate: 5e-06\n",
      "Validation Loss: 0.0455, Validation Accuracy: 0.9862\n",
      "Epoch 9/20, Training Loss: 0.0239\n",
      "Current Learning Rate: 5e-06\n",
      "Saved Best Model at Epoch 9\n",
      "Validation Loss: 0.0422, Validation Accuracy: 0.9878\n",
      "Epoch 10/20, Training Loss: 0.0223\n",
      "Current Learning Rate: 5e-06\n",
      "Validation Loss: 0.0448, Validation Accuracy: 0.9859\n",
      "Epoch 11/20, Training Loss: 0.0200\n",
      "Current Learning Rate: 2.5e-06\n",
      "Validation Loss: 0.0424, Validation Accuracy: 0.9878\n",
      "Epoch 12/20, Training Loss: 0.0177\n",
      "Current Learning Rate: 2.5e-06\n",
      "Validation Loss: 0.0429, Validation Accuracy: 0.9885\n",
      "Epoch 13/20, Training Loss: 0.0188\n",
      "Current Learning Rate: 1.25e-06\n",
      "Validation Loss: 0.0443, Validation Accuracy: 0.9872\n",
      "Epoch 14/20, Training Loss: 0.0191\n",
      "Current Learning Rate: 1.25e-06\n",
      "Validation Loss: 0.0429, Validation Accuracy: 0.9878\n",
      "Epoch 15/20, Training Loss: 0.0151\n",
      "Current Learning Rate: 6.25e-07\n",
      "Validation Loss: 0.0431, Validation Accuracy: 0.9888\n",
      "Epoch 16/20, Training Loss: 0.0169\n",
      "Current Learning Rate: 6.25e-07\n",
      "Validation Loss: 0.0441, Validation Accuracy: 0.9891\n",
      "Epoch 17/20, Training Loss: 0.0188\n",
      "Current Learning Rate: 3.125e-07\n",
      "Validation Loss: 0.0447, Validation Accuracy: 0.9875\n",
      "Epoch 18/20, Training Loss: 0.0164\n",
      "Current Learning Rate: 3.125e-07\n",
      "Validation Loss: 0.0514, Validation Accuracy: 0.9830\n",
      "Epoch 19/20, Training Loss: 0.0151\n",
      "Current Learning Rate: 1.5625e-07\n",
      "Validation Loss: 0.0436, Validation Accuracy: 0.9878\n",
      "Epoch 20/20, Training Loss: 0.0161\n",
      "Current Learning Rate: 1.5625e-07\n",
      "Validation Loss: 0.0440, Validation Accuracy: 0.9881\n"
     ]
    }
   ],
   "source": [
    "# Initialize lists to store losses\n",
    "training_losses = []\n",
    "validation_losses = []\n",
    "\n",
    "num_epochs = 20\n",
    "best_val_loss = float('inf')\n",
    "best_val_accuracy = 0.0\n",
    "\n",
    "for epoch in range(num_epochs):\n",
    "    model.train()\n",
    "    running_loss = 0.0\n",
    "\n",
    "    for images, labels in train_loader:\n",
    "        images = images.to(device)\n",
    "        labels = labels.float().unsqueeze(1).to(device)\n",
    "\n",
    "        optimizer.zero_grad()\n",
    "\n",
    "        outputs = model(images)\n",
    "        loss = criterion(outputs, labels)\n",
    "\n",
    "        loss.backward()\n",
    "        optimizer.step()\n",
    "\n",
    "        running_loss += loss.item() * images.size(0)\n",
    "\n",
    "    epoch_loss = running_loss / len(train_dataset)\n",
    "    training_losses.append(epoch_loss)\n",
    "    print(f'Epoch {epoch+1}/{num_epochs}, Training Loss: {epoch_loss:.4f}')\n",
    "\n",
    "    # Validation step\n",
    "    model.eval()\n",
    "    val_running_loss = 0.0\n",
    "    correct_predictions = 0\n",
    "\n",
    "    # Initialize lists to store predictions and labels\n",
    "    all_preds = []\n",
    "    all_labels = []\n",
    "\n",
    "    with torch.no_grad():\n",
    "        for val_images, val_labels in val_loader:\n",
    "            val_images = val_images.to(device)\n",
    "            val_labels = val_labels.float().unsqueeze(1).to(device)\n",
    "\n",
    "            val_outputs = model(val_images)\n",
    "            val_loss = criterion(val_outputs, val_labels)\n",
    "\n",
    "            val_running_loss += val_loss.item() * val_images.size(0)\n",
    "\n",
    "            # Calculate accuracy\n",
    "            preds = torch.sigmoid(val_outputs) >= 0.5\n",
    "            correct_predictions += torch.sum(preds == val_labels.byte())\n",
    "\n",
    "            # Collect predictions and labels\n",
    "            all_preds.extend(preds.cpu().numpy())\n",
    "            all_labels.extend(val_labels.cpu().numpy())\n",
    "\n",
    "    val_epoch_loss = val_running_loss / len(val_dataset)\n",
    "    validation_losses.append(val_epoch_loss)\n",
    "    val_accuracy = correct_predictions.double() / len(val_dataset)\n",
    "\n",
    "    # Step the scheduler based on validation loss\n",
    "    scheduler.step(val_epoch_loss)\n",
    "\n",
    "    # Print the current learning rate\n",
    "    current_lr = scheduler.get_last_lr()[0]\n",
    "    print(f'Current Learning Rate: {current_lr}')\n",
    "\n",
    "    if val_epoch_loss < best_val_loss:\n",
    "        best_val_loss = val_epoch_loss\n",
    "        best_val_accuracy = val_accuracy.item()\n",
    "        torch.save(model.state_dict(), 'best_model.pth')\n",
    "        print(f\"Saved Best Model at Epoch {epoch+1}\")\n",
    "\n",
    "    print(f'Validation Loss: {val_epoch_loss:.4f}, Validation Accuracy: {val_accuracy:.4f}')"
   ]
  },
  {
   "cell_type": "code",
   "execution_count": 14,
   "id": "d2dc2e5b",
   "metadata": {
    "execution": {
     "iopub.execute_input": "2024-12-04T23:24:25.842808Z",
     "iopub.status.busy": "2024-12-04T23:24:25.842523Z",
     "iopub.status.idle": "2024-12-04T23:24:26.117152Z",
     "shell.execute_reply": "2024-12-04T23:24:26.116204Z"
    },
    "papermill": {
     "duration": 0.283691,
     "end_time": "2024-12-04T23:24:26.119239",
     "exception": false,
     "start_time": "2024-12-04T23:24:25.835548",
     "status": "completed"
    },
    "tags": []
   },
   "outputs": [
    {
     "data": {
      "image/png": "[encoded data removed]",
      "text/plain": [
       "<Figure size 1000x500 with 1 Axes>"
      ]
     },
     "metadata": {},
     "output_type": "display_data"
    }
   ],
   "source": [
    "# Plot training and validation losses\n",
    "plt.figure(figsize=(10, 5))\n",
    "plt.plot(range(1, num_epochs + 1), training_losses, label='Training Loss')\n",
    "plt.plot(range(1, num_epochs + 1), validation_losses, label='Validation Loss')\n",
    "plt.xlabel('Epoch')\n",
    "plt.ylabel('Loss')\n",
    "plt.title('Training and Validation Loss Over Epochs')\n",
    "plt.legend()\n",
    "plt.show()"
   ]
  },
  {
   "cell_type": "code",
   "execution_count": 15,
   "id": "6e5081ec",
   "metadata": {
    "execution": {
     "iopub.execute_input": "2024-12-04T23:24:26.134827Z",
     "iopub.status.busy": "2024-12-04T23:24:26.133777Z",
     "iopub.status.idle": "2024-12-04T23:24:26.375607Z",
     "shell.execute_reply": "2024-12-04T23:24:26.374650Z"
    },
    "papermill": {
     "duration": 0.251544,
     "end_time": "2024-12-04T23:24:26.377484",
     "exception": false,
     "start_time": "2024-12-04T23:24:26.125940",
     "status": "completed"
    },
    "tags": []
   },
   "outputs": [
    {
     "data": {
      "image/png": "[encoded data removed]",
      "text/plain": [
       "<Figure size 640x480 with 2 Axes>"
      ]
     },
     "metadata": {},
     "output_type": "display_data"
    }
   ],
   "source": [
    "# Generate confusion matrix\n",
    "# Convert lists to numpy arrays and flatten\n",
    "all_preds_np = np.array(all_preds).astype(int).flatten()\n",
    "all_labels_np = np.array(all_labels).astype(int).flatten()\n",
    "\n",
    "# Compute confusion matrix\n",
    "cm = confusion_matrix(all_labels_np, all_preds_np)\n",
    "\n",
    "# Display confusion matrix\n",
    "disp = ConfusionMatrixDisplay(confusion_matrix=cm, display_labels=['No Fire', 'Fire'])\n",
    "disp.plot(cmap=plt.cm.Blues)\n",
    "plt.title('Confusion Matrix on Validation Set')\n",
    "plt.show()"
   ]
  },
  {
   "cell_type": "code",
   "execution_count": 16,
   "id": "f06eb22e",
   "metadata": {
    "execution": {
     "iopub.execute_input": "2024-12-04T23:24:26.392593Z",
     "iopub.status.busy": "2024-12-04T23:24:26.392311Z",
     "iopub.status.idle": "2024-12-04T23:24:26.462683Z",
     "shell.execute_reply": "2024-12-04T23:24:26.461709Z"
    },
    "papermill": {
     "duration": 0.080136,
     "end_time": "2024-12-04T23:24:26.464794",
     "exception": false,
     "start_time": "2024-12-04T23:24:26.384658",
     "status": "completed"
    },
    "tags": []
   },
   "outputs": [],
   "source": [
    "# Save the best model\n",
    "torch.save(model.state_dict(), '/kaggle/working/fire_classification_model.pth')"
   ]
  }
 ],
 "metadata": {
  "kaggle": {
   "accelerator": "gpu",
   "dataSources": [
    {
     "datasetId": 6203763,
     "sourceId": 10066160,
     "sourceType": "datasetVersion"
    }
   ],
   "dockerImageVersionId": 30805,
   "isGpuEnabled": true,
   "isInternetEnabled": true,
   "language": "python",
   "sourceType": "notebook"
  },
  "kernelspec": {
   "display_name": "Python 3",
   "language": "python",
   "name": "python3"
  },
  "language_info": {
   "codemirror_mode": {
    "name": "ipython",
    "version": 3
   },
   "file_extension": ".py",
   "mimetype": "text/x-python",
   "name": "python",
   "nbconvert_exporter": "python",
   "pygments_lexer": "ipython3",
   "version": "3.10.14"
  },
  "papermill": {
   "default_parameters": {},
   "duration": 579.701285,
   "end_time": "2024-12-04T23:24:27.997335",
   "environment_variables": {},
   "exception": null,
   "input_path": "__notebook__.ipynb",
   "output_path": "__notebook__.ipynb",
   "parameters": {},
   "start_time": "2024-12-04T23:14:48.296050",
   "version": "2.6.0"
  }
 },
 "nbformat": 4,
 "nbformat_minor": 5
}
