{
 "cells": [
  {
   "cell_type": "code",
   "execution_count": 1,
   "id": "fa97fc94",
   "metadata": {
    "_cell_guid": "b1076dfc-b9ad-4769-8c92-a6c4dae69d19",
    "_uuid": "8f2839f25d086af736a60e9eeb907d3b93b6e0e5",
    "execution": {
     "iopub.execute_input": "2024-12-07T22:51:31.327381Z",
     "iopub.status.busy": "2024-12-07T22:51:31.327084Z",
     "iopub.status.idle": "2024-12-07T22:51:36.705186Z",
     "shell.execute_reply": "2024-12-07T22:51:36.704261Z"
    },
    "papermill": {
     "duration": 5.38459,
     "end_time": "2024-12-07T22:51:36.707390",
     "exception": false,
     "start_time": "2024-12-07T22:51:31.322800",
     "status": "completed"
    },
    "tags": []
   },
   "outputs": [],
   "source": [
    "import torch\n",
    "import torch.nn as nn\n",
    "import torch.optim as optim\n",
    "from torchvision import datasets, transforms, models\n",
    "from torchvision.models import ResNet50_Weights\n",
    "\n",
    "from torch.utils.data import DataLoader\n",
    "import matplotlib.pyplot as plt\n",
    "from sklearn.metrics import confusion_matrix, ConfusionMatrixDisplay\n",
    "import numpy as np\n",
    "import math\n",
    "import copy"
   ]
  },
  {
   "cell_type": "code",
   "execution_count": 2,
   "id": "36645599",
   "metadata": {
    "execution": {
     "iopub.execute_input": "2024-12-07T22:51:36.715128Z",
     "iopub.status.busy": "2024-12-07T22:51:36.714157Z",
     "iopub.status.idle": "2024-12-07T22:51:36.771285Z",
     "shell.execute_reply": "2024-12-07T22:51:36.770382Z"
    },
    "papermill": {
     "duration": 0.062303,
     "end_time": "2024-12-07T22:51:36.772904",
     "exception": false,
     "start_time": "2024-12-07T22:51:36.710601",
     "status": "completed"
    },
    "tags": []
   },
   "outputs": [
    {
     "name": "stdout",
     "output_type": "stream",
     "text": [
      "Using device: cuda\n"
     ]
    }
   ],
   "source": [
    "device = torch.device('cuda' if torch.cuda.is_available() else 'cpu')\n",
    "print(f'Using device: {device}')"
   ]
  },
  {
   "cell_type": "code",
   "execution_count": 3,
   "id": "3401dd38",
   "metadata": {
    "execution": {
     "iopub.execute_input": "2024-12-07T22:51:36.779447Z",
     "iopub.status.busy": "2024-12-07T22:51:36.778977Z",
     "iopub.status.idle": "2024-12-07T22:51:36.785385Z",
     "shell.execute_reply": "2024-12-07T22:51:36.784586Z"
    },
    "papermill": {
     "duration": 0.011343,
     "end_time": "2024-12-07T22:51:36.786987",
     "exception": false,
     "start_time": "2024-12-07T22:51:36.775644",
     "status": "completed"
    },
    "tags": []
   },
   "outputs": [],
   "source": [
    "# Data transformations\n",
    "train_transforms = transforms.Compose([\n",
    "    transforms.RandomResizedCrop(size=(224, 224), scale=(0.8, 1.0)),\n",
    "    transforms.RandomHorizontalFlip(p=0.5),\n",
    "    transforms.RandomVerticalFlip(p=0.5),\n",
    "    transforms.RandomRotation(10),\n",
    "    transforms.ColorJitter(brightness=0.2, contrast=0.2, saturation=0.2, hue=0.1),\n",
    "    transforms.RandomPerspective(distortion_scale=0.5, p=0.5),\n",
    "    transforms.GaussianBlur(kernel_size=(5, 9), sigma=(0.1, 5)),\n",
    "    transforms.ToTensor(),\n",
    "    transforms.Normalize(mean=[0.485, 0.456, 0.406], std=[0.229, 0.224, 0.225]),  # ImageNet normalization\n",
    "])\n",
    "\n",
    "val_transforms = transforms.Compose([\n",
    "    transforms.Resize((224, 224)),\n",
    "    transforms.ToTensor(),\n",
    "    transforms.Normalize(mean=[0.485, 0.456, 0.406], std=[0.229, 0.224, 0.225]),  # ImageNet normalization\n",
    "])\n"
   ]
  },
  {
   "cell_type": "code",
   "execution_count": 4,
   "id": "31b0b9a3",
   "metadata": {
    "execution": {
     "iopub.execute_input": "2024-12-07T22:51:36.792979Z",
     "iopub.status.busy": "2024-12-07T22:51:36.792729Z",
     "iopub.status.idle": "2024-12-07T22:52:03.980213Z",
     "shell.execute_reply": "2024-12-07T22:52:03.979240Z"
    },
    "papermill": {
     "duration": 27.192745,
     "end_time": "2024-12-07T22:52:03.982289",
     "exception": false,
     "start_time": "2024-12-07T22:51:36.789544",
     "status": "completed"
    },
    "tags": []
   },
   "outputs": [],
   "source": [
    "# Load datasets\n",
    "train_dataset = datasets.ImageFolder(\n",
    "    root='/kaggle/input/sapienza-dl2425-challenge/dl2425_challenge_dataset/train', \n",
    "    transform=train_transforms\n",
    ")\n",
    "val_dataset = datasets.ImageFolder(\n",
    "    root='/kaggle/input/sapienza-dl2425-challenge/dl2425_challenge_dataset/val', \n",
    "    transform=val_transforms\n",
    ")"
   ]
  },
  {
   "cell_type": "code",
   "execution_count": 5,
   "id": "a0430e99",
   "metadata": {
    "execution": {
     "iopub.execute_input": "2024-12-07T22:52:03.989112Z",
     "iopub.status.busy": "2024-12-07T22:52:03.988602Z",
     "iopub.status.idle": "2024-12-07T22:52:03.993253Z",
     "shell.execute_reply": "2024-12-07T22:52:03.992464Z"
    },
    "papermill": {
     "duration": 0.009758,
     "end_time": "2024-12-07T22:52:03.994921",
     "exception": false,
     "start_time": "2024-12-07T22:52:03.985163",
     "status": "completed"
    },
    "tags": []
   },
   "outputs": [],
   "source": [
    "batch_size = 32\n",
    "\n",
    "train_loader = DataLoader(train_dataset, batch_size=batch_size, shuffle=True, num_workers=4)\n",
    "val_loader = DataLoader(val_dataset, batch_size=batch_size, shuffle=False, num_workers=4)"
   ]
  },
  {
   "cell_type": "code",
   "execution_count": 6,
   "id": "6a43a148",
   "metadata": {
    "execution": {
     "iopub.execute_input": "2024-12-07T22:52:04.002090Z",
     "iopub.status.busy": "2024-12-07T22:52:04.001641Z",
     "iopub.status.idle": "2024-12-07T22:52:05.297388Z",
     "shell.execute_reply": "2024-12-07T22:52:05.296697Z"
    },
    "papermill": {
     "duration": 1.30196,
     "end_time": "2024-12-07T22:52:05.299352",
     "exception": false,
     "start_time": "2024-12-07T22:52:03.997392",
     "status": "completed"
    },
    "tags": []
   },
   "outputs": [
    {
     "name": "stderr",
     "output_type": "stream",
     "text": [
      "Downloading: \"https://download.pytorch.org/models/resnet50-11ad3fa6.pth\" to /root/.cache/torch/hub/checkpoints/resnet50-11ad3fa6.pth\n",
      "100%|██████████| 97.8M/97.8M [00:00<00:00, 215MB/s]\n"
     ]
    }
   ],
   "source": [
    "# Initialize the model\n",
    "model = models.resnet50(weights=ResNet50_Weights.DEFAULT)\n",
    "num_features = model.fc.in_features\n",
    "model.fc = nn.Sequential(\n",
    "    nn.Linear(num_features, 512),\n",
    "    nn.SiLU(),\n",
    "    nn.Dropout(0.8),        \n",
    "    nn.Linear(512, 256),\n",
    "    nn.SiLU(),\n",
    "    nn.Linear(256, 1)\n",
    ")\n",
    "model = model.to(device)"
   ]
  },
  {
   "cell_type": "code",
   "execution_count": 7,
   "id": "38e322a4",
   "metadata": {
    "execution": {
     "iopub.execute_input": "2024-12-07T22:52:05.306572Z",
     "iopub.status.busy": "2024-12-07T22:52:05.306252Z",
     "iopub.status.idle": "2024-12-07T22:52:05.310047Z",
     "shell.execute_reply": "2024-12-07T22:52:05.309382Z"
    },
    "papermill": {
     "duration": 0.008919,
     "end_time": "2024-12-07T22:52:05.311476",
     "exception": false,
     "start_time": "2024-12-07T22:52:05.302557",
     "status": "completed"
    },
    "tags": []
   },
   "outputs": [],
   "source": [
    "criterion = nn.BCEWithLogitsLoss()"
   ]
  },
  {
   "cell_type": "code",
   "execution_count": 8,
   "id": "058c35a2",
   "metadata": {
    "execution": {
     "iopub.execute_input": "2024-12-07T22:52:05.318106Z",
     "iopub.status.busy": "2024-12-07T22:52:05.317870Z",
     "iopub.status.idle": "2024-12-07T22:52:05.322818Z",
     "shell.execute_reply": "2024-12-07T22:52:05.321997Z"
    },
    "papermill": {
     "duration": 0.009988,
     "end_time": "2024-12-07T22:52:05.324327",
     "exception": false,
     "start_time": "2024-12-07T22:52:05.314339",
     "status": "completed"
    },
    "tags": []
   },
   "outputs": [],
   "source": [
    "initial_lr = 1e-5\n",
    "optimizer = optim.Adam(model.parameters(), lr=initial_lr, weight_decay=1e-5)\n",
    "scheduler = optim.lr_scheduler.ReduceLROnPlateau(optimizer, mode='min', factor=0.5, patience=2)"
   ]
  },
  {
   "cell_type": "code",
   "execution_count": 9,
   "id": "70ce7ae3",
   "metadata": {
    "execution": {
     "iopub.execute_input": "2024-12-07T22:52:05.331003Z",
     "iopub.status.busy": "2024-12-07T22:52:05.330761Z",
     "iopub.status.idle": "2024-12-07T23:19:16.407110Z",
     "shell.execute_reply": "2024-12-07T23:19:16.405818Z"
    },
    "papermill": {
     "duration": 1631.082091,
     "end_time": "2024-12-07T23:19:16.409261",
     "exception": false,
     "start_time": "2024-12-07T22:52:05.327170",
     "status": "completed"
    },
    "tags": []
   },
   "outputs": [
    {
     "name": "stdout",
     "output_type": "stream",
     "text": [
      "Epoch 1/20, Training Loss: 0.5471\n",
      "Current Learning Rate: 1e-05\n",
      "Saved Best Model at Epoch 1\n",
      "Validation Loss: 0.4044, Validation Accuracy: 0.7071\n",
      "Epoch 2/20, Training Loss: 0.3370\n",
      "Current Learning Rate: 1e-05\n",
      "Saved Best Model at Epoch 2\n",
      "Validation Loss: 0.2300, Validation Accuracy: 0.9471\n",
      "Epoch 3/20, Training Loss: 0.1906\n",
      "Current Learning Rate: 1e-05\n",
      "Saved Best Model at Epoch 3\n",
      "Validation Loss: 0.1285, Validation Accuracy: 0.9622\n",
      "Epoch 4/20, Training Loss: 0.1483\n",
      "Current Learning Rate: 1e-05\n",
      "Saved Best Model at Epoch 4\n",
      "Validation Loss: 0.1179, Validation Accuracy: 0.9667\n",
      "Epoch 5/20, Training Loss: 0.1267\n",
      "Current Learning Rate: 1e-05\n",
      "Saved Best Model at Epoch 5\n",
      "Validation Loss: 0.0838, Validation Accuracy: 0.9756\n",
      "Epoch 6/20, Training Loss: 0.1144\n",
      "Current Learning Rate: 1e-05\n",
      "Validation Loss: 0.0869, Validation Accuracy: 0.9747\n",
      "Epoch 7/20, Training Loss: 0.1055\n",
      "Current Learning Rate: 1e-05\n",
      "Saved Best Model at Epoch 7\n",
      "Validation Loss: 0.0733, Validation Accuracy: 0.9773\n",
      "Epoch 8/20, Training Loss: 0.0912\n",
      "Current Learning Rate: 1e-05\n",
      "Validation Loss: 0.0741, Validation Accuracy: 0.9769\n",
      "Epoch 9/20, Training Loss: 0.0891\n",
      "Current Learning Rate: 1e-05\n",
      "Validation Loss: 0.0825, Validation Accuracy: 0.9740\n",
      "Epoch 10/20, Training Loss: 0.0802\n",
      "Current Learning Rate: 1e-05\n",
      "Saved Best Model at Epoch 10\n",
      "Validation Loss: 0.0681, Validation Accuracy: 0.9789\n",
      "Epoch 11/20, Training Loss: 0.0808\n",
      "Current Learning Rate: 1e-05\n",
      "Saved Best Model at Epoch 11\n",
      "Validation Loss: 0.0660, Validation Accuracy: 0.9805\n",
      "Epoch 12/20, Training Loss: 0.0727\n",
      "Current Learning Rate: 1e-05\n",
      "Validation Loss: 0.0715, Validation Accuracy: 0.9776\n",
      "Epoch 13/20, Training Loss: 0.0687\n",
      "Current Learning Rate: 1e-05\n",
      "Validation Loss: 0.0671, Validation Accuracy: 0.9798\n",
      "Epoch 14/20, Training Loss: 0.0707\n",
      "Current Learning Rate: 1e-05\n",
      "Saved Best Model at Epoch 14\n",
      "Validation Loss: 0.0642, Validation Accuracy: 0.9798\n",
      "Epoch 15/20, Training Loss: 0.0618\n",
      "Current Learning Rate: 1e-05\n",
      "Saved Best Model at Epoch 15\n",
      "Validation Loss: 0.0631, Validation Accuracy: 0.9814\n",
      "Epoch 16/20, Training Loss: 0.0629\n",
      "Current Learning Rate: 1e-05\n",
      "Validation Loss: 0.0661, Validation Accuracy: 0.9801\n",
      "Epoch 17/20, Training Loss: 0.0566\n",
      "Current Learning Rate: 1e-05\n",
      "Validation Loss: 0.0773, Validation Accuracy: 0.9769\n",
      "Epoch 18/20, Training Loss: 0.0531\n",
      "Current Learning Rate: 5e-06\n",
      "Validation Loss: 0.0636, Validation Accuracy: 0.9827\n",
      "Epoch 19/20, Training Loss: 0.0540\n",
      "Current Learning Rate: 5e-06\n",
      "Validation Loss: 0.0726, Validation Accuracy: 0.9782\n",
      "Epoch 20/20, Training Loss: 0.0506\n",
      "Current Learning Rate: 5e-06\n",
      "Validation Loss: 0.0656, Validation Accuracy: 0.9817\n"
     ]
    }
   ],
   "source": [
    "# Initialize lists to store losses\n",
    "training_losses = []\n",
    "validation_losses = []\n",
    "\n",
    "num_epochs = 20\n",
    "best_val_loss = float('inf')\n",
    "best_val_accuracy = 0.0\n",
    "\n",
    "for epoch in range(num_epochs):\n",
    "    model.train()\n",
    "    running_loss = 0.0\n",
    "\n",
    "    for images, labels in train_loader:\n",
    "        images = images.to(device)\n",
    "        labels = labels.float().unsqueeze(1).to(device)\n",
    "\n",
    "        optimizer.zero_grad()\n",
    "\n",
    "        outputs = model(images)\n",
    "        loss = criterion(outputs, labels)\n",
    "\n",
    "        loss.backward()\n",
    "        optimizer.step()\n",
    "\n",
    "        running_loss += loss.item() * images.size(0)\n",
    "\n",
    "    epoch_loss = running_loss / len(train_dataset)\n",
    "    training_losses.append(epoch_loss)\n",
    "    print(f'Epoch {epoch+1}/{num_epochs}, Training Loss: {epoch_loss:.4f}')\n",
    "\n",
    "    # Validation step\n",
    "    model.eval()\n",
    "    val_running_loss = 0.0\n",
    "    correct_predictions = 0\n",
    "\n",
    "    # Initialize lists to store predictions and labels\n",
    "    all_preds = []\n",
    "    all_labels = []\n",
    "\n",
    "    with torch.no_grad():\n",
    "        for val_images, val_labels in val_loader:\n",
    "            val_images = val_images.to(device)\n",
    "            val_labels = val_labels.float().unsqueeze(1).to(device)\n",
    "\n",
    "            val_outputs = model(val_images)\n",
    "            val_loss = criterion(val_outputs, val_labels)\n",
    "\n",
    "            val_running_loss += val_loss.item() * val_images.size(0)\n",
    "\n",
    "            # Calculate accuracy\n",
    "            preds = torch.sigmoid(val_outputs) >= 0.5\n",
    "            correct_predictions += torch.sum(preds == val_labels.byte())\n",
    "\n",
    "            # Collect predictions and labels\n",
    "            all_preds.extend(preds.cpu().numpy())\n",
    "            all_labels.extend(val_labels.cpu().numpy())\n",
    "\n",
    "    val_epoch_loss = val_running_loss / len(val_dataset)\n",
    "    validation_losses.append(val_epoch_loss)\n",
    "    val_accuracy = correct_predictions.double() / len(val_dataset)\n",
    "\n",
    "    # Step the scheduler based on validation loss\n",
    "    scheduler.step(val_epoch_loss)\n",
    "\n",
    "    # Print the current learning rate\n",
    "    current_lr = scheduler.get_last_lr()[0]\n",
    "    print(f'Current Learning Rate: {current_lr}')\n",
    "\n",
    "    if val_epoch_loss < best_val_loss:\n",
    "        best_val_loss = val_epoch_loss\n",
    "        best_val_accuracy = val_accuracy.item()\n",
    "        torch.save(model.state_dict(), 'best_model.pth')\n",
    "        print(f\"Saved Best Model at Epoch {epoch+1}\")\n",
    "\n",
    "    print(f'Validation Loss: {val_epoch_loss:.4f}, Validation Accuracy: {val_accuracy:.4f}')"
   ]
  },
  {
   "cell_type": "code",
   "execution_count": 10,
   "id": "e3b02f9a",
   "metadata": {
    "execution": {
     "iopub.execute_input": "2024-12-07T23:19:16.421194Z",
     "iopub.status.busy": "2024-12-07T23:19:16.420643Z",
     "iopub.status.idle": "2024-12-07T23:19:16.734322Z",
     "shell.execute_reply": "2024-12-07T23:19:16.733464Z"
    },
    "papermill": {
     "duration": 0.321856,
     "end_time": "2024-12-07T23:19:16.736243",
     "exception": false,
     "start_time": "2024-12-07T23:19:16.414387",
     "status": "completed"
    },
    "tags": []
   },
   "outputs": [
    {
     "data": {
      "image/png": "[encoded data removed]",
      "text/plain": [
       "<Figure size 1000x500 with 1 Axes>"
      ]
     },
     "metadata": {},
     "output_type": "display_data"
    }
   ],
   "source": [
    "# Plot training and validation losses\n",
    "plt.figure(figsize=(10, 5))\n",
    "plt.plot(range(1, num_epochs + 1), training_losses, label='Training Loss')\n",
    "plt.plot(range(1, num_epochs + 1), validation_losses, label='Validation Loss')\n",
    "plt.xlabel('Epoch')\n",
    "plt.ylabel('Loss')\n",
    "plt.title('Training and Validation Loss Over Epochs')\n",
    "plt.legend()\n",
    "plt.show()"
   ]
  },
  {
   "cell_type": "code",
   "execution_count": 11,
   "id": "3194856c",
   "metadata": {
    "execution": {
     "iopub.execute_input": "2024-12-07T23:19:16.750187Z",
     "iopub.status.busy": "2024-12-07T23:19:16.749365Z",
     "iopub.status.idle": "2024-12-07T23:19:17.028768Z",
     "shell.execute_reply": "2024-12-07T23:19:17.027608Z"
    },
    "papermill": {
     "duration": 0.288213,
     "end_time": "2024-12-07T23:19:17.030711",
     "exception": false,
     "start_time": "2024-12-07T23:19:16.742498",
     "status": "completed"
    },
    "tags": []
   },
   "outputs": [
    {
     "data": {
      "image/png": "[encoded data removed]",
      "text/plain": [
       "<Figure size 640x480 with 2 Axes>"
      ]
     },
     "metadata": {},
     "output_type": "display_data"
    }
   ],
   "source": [
    "# Generate confusion matrix\n",
    "# Convert lists to numpy arrays and flatten\n",
    "all_preds_np = np.array(all_preds).astype(int).flatten()\n",
    "all_labels_np = np.array(all_labels).astype(int).flatten()\n",
    "\n",
    "# Compute confusion matrix\n",
    "cm = confusion_matrix(all_labels_np, all_preds_np)\n",
    "\n",
    "# Display confusion matrix\n",
    "disp = ConfusionMatrixDisplay(confusion_matrix=cm, display_labels=['No Fire', 'Fire'])\n",
    "disp.plot(cmap=plt.cm.Blues)\n",
    "plt.title('Confusion Matrix on Validation Set')\n",
    "plt.show()"
   ]
  },
  {
   "cell_type": "code",
   "execution_count": 12,
   "id": "f66d8b04",
   "metadata": {
    "execution": {
     "iopub.execute_input": "2024-12-07T23:19:17.044939Z",
     "iopub.status.busy": "2024-12-07T23:19:17.044399Z",
     "iopub.status.idle": "2024-12-07T23:19:17.216930Z",
     "shell.execute_reply": "2024-12-07T23:19:17.215946Z"
    },
    "papermill": {
     "duration": 0.182433,
     "end_time": "2024-12-07T23:19:17.219529",
     "exception": false,
     "start_time": "2024-12-07T23:19:17.037096",
     "status": "completed"
    },
    "tags": []
   },
   "outputs": [],
   "source": [
    "# Save the best model\n",
    "torch.save(model.state_dict(), '/kaggle/working/fire_classification_model.pth')"
   ]
  }
 ],
 "metadata": {
  "kaggle": {
   "accelerator": "gpu",
   "dataSources": [
    {
     "datasetId": 6203763,
     "sourceId": 10066160,
     "sourceType": "datasetVersion"
    }
   ],
   "dockerImageVersionId": 30805,
   "isGpuEnabled": true,
   "isInternetEnabled": true,
   "language": "python",
   "sourceType": "notebook"
  },
  "kernelspec": {
   "display_name": "Python 3",
   "language": "python",
   "name": "python3"
  },
  "language_info": {
   "codemirror_mode": {
    "name": "ipython",
    "version": 3
   },
   "file_extension": ".py",
   "mimetype": "text/x-python",
   "name": "python",
   "nbconvert_exporter": "python",
   "pygments_lexer": "ipython3",
   "version": "3.10.14"
  },
  "papermill": {
   "default_parameters": {},
   "duration": 1669.687995,
   "end_time": "2024-12-07T23:19:18.652381",
   "environment_variables": {},
   "exception": null,
   "input_path": "__notebook__.ipynb",
   "output_path": "__notebook__.ipynb",
   "parameters": {},
   "start_time": "2024-12-07T22:51:28.964386",
   "version": "2.6.0"
  }
 },
 "nbformat": 4,
 "nbformat_minor": 5
}
