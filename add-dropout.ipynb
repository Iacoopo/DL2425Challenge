{
 "cells": [
  {
   "cell_type": "code",
   "execution_count": 1,
   "id": "9b6aad05",
   "metadata": {
    "_cell_guid": "b1076dfc-b9ad-4769-8c92-a6c4dae69d19",
    "_uuid": "8f2839f25d086af736a60e9eeb907d3b93b6e0e5",
    "execution": {
     "iopub.execute_input": "2024-12-05T12:01:08.765319Z",
     "iopub.status.busy": "2024-12-05T12:01:08.764987Z",
     "iopub.status.idle": "2024-12-05T12:01:14.257089Z",
     "shell.execute_reply": "2024-12-05T12:01:14.256390Z"
    },
    "papermill": {
     "duration": 5.499324,
     "end_time": "2024-12-05T12:01:14.259109",
     "exception": false,
     "start_time": "2024-12-05T12:01:08.759785",
     "status": "completed"
    },
    "tags": []
   },
   "outputs": [],
   "source": [
    "import torch\n",
    "import torch.nn as nn\n",
    "import torch.optim as optim\n",
    "from torchvision import datasets, transforms, models\n",
    "from torch.utils.data import DataLoader\n",
    "import matplotlib.pyplot as plt\n",
    "from sklearn.metrics import confusion_matrix, ConfusionMatrixDisplay\n",
    "import numpy as np\n",
    "import math\n",
    "import copy"
   ]
  },
  {
   "cell_type": "code",
   "execution_count": 2,
   "id": "2745d069",
   "metadata": {
    "execution": {
     "iopub.execute_input": "2024-12-05T12:01:14.268227Z",
     "iopub.status.busy": "2024-12-05T12:01:14.267542Z",
     "iopub.status.idle": "2024-12-05T12:01:14.327760Z",
     "shell.execute_reply": "2024-12-05T12:01:14.326961Z"
    },
    "papermill": {
     "duration": 0.066275,
     "end_time": "2024-12-05T12:01:14.329401",
     "exception": false,
     "start_time": "2024-12-05T12:01:14.263126",
     "status": "completed"
    },
    "tags": []
   },
   "outputs": [
    {
     "name": "stdout",
     "output_type": "stream",
     "text": [
      "Using device: cuda\n"
     ]
    }
   ],
   "source": [
    "device = torch.device('cuda' if torch.cuda.is_available() else 'cpu')\n",
    "print(f'Using device: {device}')"
   ]
  },
  {
   "cell_type": "code",
   "execution_count": 3,
   "id": "0d606619",
   "metadata": {
    "execution": {
     "iopub.execute_input": "2024-12-05T12:01:14.336890Z",
     "iopub.status.busy": "2024-12-05T12:01:14.336596Z",
     "iopub.status.idle": "2024-12-05T12:01:14.341165Z",
     "shell.execute_reply": "2024-12-05T12:01:14.340352Z"
    },
    "papermill": {
     "duration": 0.010076,
     "end_time": "2024-12-05T12:01:14.342845",
     "exception": false,
     "start_time": "2024-12-05T12:01:14.332769",
     "status": "completed"
    },
    "tags": []
   },
   "outputs": [],
   "source": [
    "# Data transformations\n",
    "train_transforms = transforms.Compose([\n",
    "    transforms.Resize((224, 224)),\n",
    "    transforms.RandomHorizontalFlip(),\n",
    "    transforms.RandomRotation(10),\n",
    "    transforms.ToTensor(),\n",
    "])\n",
    "\n",
    "val_transforms = transforms.Compose([\n",
    "    transforms.Resize((224, 224)),\n",
    "    transforms.ToTensor(),\n",
    "])"
   ]
  },
  {
   "cell_type": "code",
   "execution_count": 4,
   "id": "984a359b",
   "metadata": {
    "execution": {
     "iopub.execute_input": "2024-12-05T12:01:14.349759Z",
     "iopub.status.busy": "2024-12-05T12:01:14.349487Z",
     "iopub.status.idle": "2024-12-05T12:01:32.225843Z",
     "shell.execute_reply": "2024-12-05T12:01:32.225113Z"
    },
    "papermill": {
     "duration": 17.881945,
     "end_time": "2024-12-05T12:01:32.227778",
     "exception": false,
     "start_time": "2024-12-05T12:01:14.345833",
     "status": "completed"
    },
    "tags": []
   },
   "outputs": [],
   "source": [
    "# Load datasets\n",
    "train_dataset = datasets.ImageFolder(\n",
    "    root='/kaggle/input/sapienza-dl2425-challenge/dl2425_challenge_dataset/train', \n",
    "    transform=train_transforms\n",
    ")\n",
    "val_dataset = datasets.ImageFolder(\n",
    "    root='/kaggle/input/sapienza-dl2425-challenge/dl2425_challenge_dataset/val', \n",
    "    transform=val_transforms\n",
    ")"
   ]
  },
  {
   "cell_type": "code",
   "execution_count": 5,
   "id": "a6e87296",
   "metadata": {
    "execution": {
     "iopub.execute_input": "2024-12-05T12:01:32.236836Z",
     "iopub.status.busy": "2024-12-05T12:01:32.236309Z",
     "iopub.status.idle": "2024-12-05T12:01:32.241228Z",
     "shell.execute_reply": "2024-12-05T12:01:32.240387Z"
    },
    "papermill": {
     "duration": 0.010384,
     "end_time": "2024-12-05T12:01:32.242834",
     "exception": false,
     "start_time": "2024-12-05T12:01:32.232450",
     "status": "completed"
    },
    "tags": []
   },
   "outputs": [],
   "source": [
    "batch_size = 32\n",
    "\n",
    "train_loader = DataLoader(train_dataset, batch_size=batch_size, shuffle=True, num_workers=4)\n",
    "val_loader = DataLoader(val_dataset, batch_size=batch_size, shuffle=False, num_workers=4)"
   ]
  },
  {
   "cell_type": "code",
   "execution_count": 6,
   "id": "b63d6528",
   "metadata": {
    "execution": {
     "iopub.execute_input": "2024-12-05T12:01:32.250065Z",
     "iopub.status.busy": "2024-12-05T12:01:32.249806Z",
     "iopub.status.idle": "2024-12-05T12:01:33.080115Z",
     "shell.execute_reply": "2024-12-05T12:01:33.079161Z"
    },
    "papermill": {
     "duration": 0.836147,
     "end_time": "2024-12-05T12:01:33.082182",
     "exception": false,
     "start_time": "2024-12-05T12:01:32.246035",
     "status": "completed"
    },
    "tags": []
   },
   "outputs": [
    {
     "name": "stderr",
     "output_type": "stream",
     "text": [
      "/opt/conda/lib/python3.10/site-packages/torchvision/models/_utils.py:208: UserWarning: The parameter 'pretrained' is deprecated since 0.13 and may be removed in the future, please use 'weights' instead.\n",
      "  warnings.warn(\n",
      "/opt/conda/lib/python3.10/site-packages/torchvision/models/_utils.py:223: UserWarning: Arguments other than a weight enum or `None` for 'weights' are deprecated since 0.13 and may be removed in the future. The current behavior is equivalent to passing `weights=ResNet18_Weights.IMAGENET1K_V1`. You can also use `weights=ResNet18_Weights.DEFAULT` to get the most up-to-date weights.\n",
      "  warnings.warn(msg)\n",
      "Downloading: \"https://download.pytorch.org/models/resnet18-f37072fd.pth\" to /root/.cache/torch/hub/checkpoints/resnet18-f37072fd.pth\n",
      "100%|██████████| 44.7M/44.7M [00:00<00:00, 185MB/s]\n"
     ]
    }
   ],
   "source": [
    "# Initialize the model\n",
    "model = models.resnet18(pretrained=True)\n",
    "num_features = model.fc.in_features\n",
    "model.fc = nn.Sequential(\n",
    "    nn.Linear(num_features, 512),\n",
    "    nn.SiLU(),\n",
    "    nn.Dropout(0.5),        \n",
    "    nn.Linear(512, 256),\n",
    "    nn.SiLU(),\n",
    "    nn.Linear(256, 1)\n",
    ")\n",
    "model = model.to(device)"
   ]
  },
  {
   "cell_type": "code",
   "execution_count": 7,
   "id": "d62544d6",
   "metadata": {
    "execution": {
     "iopub.execute_input": "2024-12-05T12:01:33.090663Z",
     "iopub.status.busy": "2024-12-05T12:01:33.090387Z",
     "iopub.status.idle": "2024-12-05T12:01:33.094161Z",
     "shell.execute_reply": "2024-12-05T12:01:33.093417Z"
    },
    "papermill": {
     "duration": 0.009721,
     "end_time": "2024-12-05T12:01:33.095773",
     "exception": false,
     "start_time": "2024-12-05T12:01:33.086052",
     "status": "completed"
    },
    "tags": []
   },
   "outputs": [],
   "source": [
    "criterion = nn.BCEWithLogitsLoss()"
   ]
  },
  {
   "cell_type": "code",
   "execution_count": 8,
   "id": "f91b7767",
   "metadata": {
    "execution": {
     "iopub.execute_input": "2024-12-05T12:01:33.103571Z",
     "iopub.status.busy": "2024-12-05T12:01:33.103347Z",
     "iopub.status.idle": "2024-12-05T12:01:33.110280Z",
     "shell.execute_reply": "2024-12-05T12:01:33.109602Z"
    },
    "papermill": {
     "duration": 0.012756,
     "end_time": "2024-12-05T12:01:33.111891",
     "exception": false,
     "start_time": "2024-12-05T12:01:33.099135",
     "status": "completed"
    },
    "tags": []
   },
   "outputs": [],
   "source": [
    "def find_learning_rate(model, criterion, optimizer, dataloader, device, init_value=1e-8, final_value=10., beta=0.98):\n",
    "    num = len(dataloader) - 1\n",
    "    mult = (final_value / init_value) ** (1/num)\n",
    "    lr = init_value\n",
    "    optimizer.param_groups[0]['lr'] = lr\n",
    "    avg_loss = 0.0\n",
    "    best_loss = float('inf')\n",
    "    batch_num = 0\n",
    "    losses = []\n",
    "    log_lrs = []\n",
    "    for data in dataloader:\n",
    "        batch_num += 1\n",
    "        # Get the inputs and labels\n",
    "        inputs, labels = data\n",
    "        inputs = inputs.to(device)\n",
    "        labels = labels.float().unsqueeze(1).to(device)\n",
    "        # Zero gradients\n",
    "        optimizer.zero_grad()\n",
    "        # Forward pass\n",
    "        outputs = model(inputs)\n",
    "        loss = criterion(outputs, labels)\n",
    "        # Compute the smoothed loss\n",
    "        avg_loss = beta * avg_loss + (1 - beta) * loss.item()\n",
    "        smoothed_loss = avg_loss / (1 - beta ** batch_num)\n",
    "        # Record the best loss\n",
    "        if smoothed_loss < best_loss:\n",
    "            best_loss = smoothed_loss\n",
    "        # Stop if the loss is exploding\n",
    "        if batch_num > 1 and smoothed_loss > 4 * best_loss:\n",
    "            break\n",
    "        # Record the values\n",
    "        losses.append(smoothed_loss)\n",
    "        log_lrs.append(math.log10(lr))\n",
    "        # Backward pass and optimizer step\n",
    "        loss.backward()\n",
    "        optimizer.step()\n",
    "        # Update the learning rate\n",
    "        lr *= mult\n",
    "        optimizer.param_groups[0]['lr'] = lr\n",
    "    return log_lrs, losses"
   ]
  },
  {
   "cell_type": "code",
   "execution_count": 9,
   "id": "cf6d1c79",
   "metadata": {
    "execution": {
     "iopub.execute_input": "2024-12-05T12:01:33.119674Z",
     "iopub.status.busy": "2024-12-05T12:01:33.119413Z",
     "iopub.status.idle": "2024-12-05T12:01:51.072217Z",
     "shell.execute_reply": "2024-12-05T12:01:51.071158Z"
    },
    "papermill": {
     "duration": 17.959015,
     "end_time": "2024-12-05T12:01:51.074315",
     "exception": false,
     "start_time": "2024-12-05T12:01:33.115300",
     "status": "completed"
    },
    "tags": []
   },
   "outputs": [],
   "source": [
    "# Copy the model to avoid altering the original\n",
    "model_lr_find = copy.deepcopy(model)\n",
    "model_lr_find.train()\n",
    "\n",
    "# Define an optimizer with a very small initial learning rate\n",
    "optimizer_lr_find = optim.Adam(model_lr_find.parameters(), lr=1e-8)\n",
    "\n",
    "# Run the Learning Rate Finder\n",
    "log_lrs, losses = find_learning_rate(model_lr_find, criterion, optimizer_lr_find, train_loader, device)"
   ]
  },
  {
   "cell_type": "code",
   "execution_count": 10,
   "id": "673ed065",
   "metadata": {
    "execution": {
     "iopub.execute_input": "2024-12-05T12:01:51.082875Z",
     "iopub.status.busy": "2024-12-05T12:01:51.082576Z",
     "iopub.status.idle": "2024-12-05T12:01:51.354273Z",
     "shell.execute_reply": "2024-12-05T12:01:51.353342Z"
    },
    "papermill": {
     "duration": 0.278017,
     "end_time": "2024-12-05T12:01:51.356040",
     "exception": false,
     "start_time": "2024-12-05T12:01:51.078023",
     "status": "completed"
    },
    "tags": []
   },
   "outputs": [
    {
     "data": {
      "image/png": "[encoded data removed]",
      "text/plain": [
       "<Figure size 1000x600 with 1 Axes>"
      ]
     },
     "metadata": {},
     "output_type": "display_data"
    }
   ],
   "source": [
    "# Plot the loss vs. learning rate\n",
    "plt.figure(figsize=(10, 6))\n",
    "plt.plot(log_lrs[10:-5], losses[10:-5])\n",
    "plt.xlabel('Log Learning Rate')\n",
    "plt.ylabel('Loss')\n",
    "plt.title('Learning Rate Finder')\n",
    "plt.show()"
   ]
  },
  {
   "cell_type": "markdown",
   "id": "93b51491",
   "metadata": {
    "papermill": {
     "duration": 0.003655,
     "end_time": "2024-12-05T12:01:51.363811",
     "exception": false,
     "start_time": "2024-12-05T12:01:51.360156",
     "status": "completed"
    },
    "tags": []
   },
   "source": [
    "There are different approaches but to ensure stability the Lr should be in between e-5 and e-4"
   ]
  },
  {
   "cell_type": "code",
   "execution_count": 11,
   "id": "e6e60483",
   "metadata": {
    "execution": {
     "iopub.execute_input": "2024-12-05T12:01:51.372429Z",
     "iopub.status.busy": "2024-12-05T12:01:51.372119Z",
     "iopub.status.idle": "2024-12-05T12:01:51.375878Z",
     "shell.execute_reply": "2024-12-05T12:01:51.375167Z"
    },
    "papermill": {
     "duration": 0.009801,
     "end_time": "2024-12-05T12:01:51.377345",
     "exception": false,
     "start_time": "2024-12-05T12:01:51.367544",
     "status": "completed"
    },
    "tags": []
   },
   "outputs": [],
   "source": [
    "initial_lr = 1e-5"
   ]
  },
  {
   "cell_type": "code",
   "execution_count": 12,
   "id": "92cb9e76",
   "metadata": {
    "execution": {
     "iopub.execute_input": "2024-12-05T12:01:51.386317Z",
     "iopub.status.busy": "2024-12-05T12:01:51.385646Z",
     "iopub.status.idle": "2024-12-05T12:01:51.390327Z",
     "shell.execute_reply": "2024-12-05T12:01:51.389674Z"
    },
    "papermill": {
     "duration": 0.010613,
     "end_time": "2024-12-05T12:01:51.391783",
     "exception": false,
     "start_time": "2024-12-05T12:01:51.381170",
     "status": "completed"
    },
    "tags": []
   },
   "outputs": [],
   "source": [
    "# Define the optimizer and scheduler\n",
    "optimizer = optim.Adam(model.parameters(), lr=initial_lr, weight_decay=1e-5)\n",
    "scheduler = optim.lr_scheduler.ReduceLROnPlateau(optimizer, mode='min', factor=0.5, patience=2)"
   ]
  },
  {
   "cell_type": "code",
   "execution_count": 13,
   "id": "a0b862e9",
   "metadata": {
    "execution": {
     "iopub.execute_input": "2024-12-05T12:01:51.400445Z",
     "iopub.status.busy": "2024-12-05T12:01:51.400197Z",
     "iopub.status.idle": "2024-12-05T12:10:51.600621Z",
     "shell.execute_reply": "2024-12-05T12:10:51.599295Z"
    },
    "papermill": {
     "duration": 540.207086,
     "end_time": "2024-12-05T12:10:51.602621",
     "exception": false,
     "start_time": "2024-12-05T12:01:51.395535",
     "status": "completed"
    },
    "tags": []
   },
   "outputs": [
    {
     "name": "stdout",
     "output_type": "stream",
     "text": [
      "Epoch 1/20, Training Loss: 0.3138\n",
      "Current Learning Rate: 1e-05\n",
      "Saved Best Model at Epoch 1\n",
      "Validation Loss: 0.0715, Validation Accuracy: 0.9817\n",
      "Epoch 2/20, Training Loss: 0.0809\n",
      "Current Learning Rate: 1e-05\n",
      "Saved Best Model at Epoch 2\n",
      "Validation Loss: 0.0513, Validation Accuracy: 0.9859\n",
      "Epoch 3/20, Training Loss: 0.0579\n",
      "Current Learning Rate: 1e-05\n",
      "Saved Best Model at Epoch 3\n",
      "Validation Loss: 0.0450, Validation Accuracy: 0.9865\n",
      "Epoch 4/20, Training Loss: 0.0451\n",
      "Current Learning Rate: 1e-05\n",
      "Saved Best Model at Epoch 4\n",
      "Validation Loss: 0.0395, Validation Accuracy: 0.9865\n",
      "Epoch 5/20, Training Loss: 0.0376\n",
      "Current Learning Rate: 1e-05\n",
      "Validation Loss: 0.0409, Validation Accuracy: 0.9875\n",
      "Epoch 6/20, Training Loss: 0.0387\n",
      "Current Learning Rate: 1e-05\n",
      "Saved Best Model at Epoch 6\n",
      "Validation Loss: 0.0388, Validation Accuracy: 0.9875\n",
      "Epoch 7/20, Training Loss: 0.0291\n",
      "Current Learning Rate: 1e-05\n",
      "Validation Loss: 0.0425, Validation Accuracy: 0.9869\n",
      "Epoch 8/20, Training Loss: 0.0246\n",
      "Current Learning Rate: 1e-05\n",
      "Validation Loss: 0.0411, Validation Accuracy: 0.9865\n",
      "Epoch 9/20, Training Loss: 0.0227\n",
      "Current Learning Rate: 5e-06\n",
      "Validation Loss: 0.0450, Validation Accuracy: 0.9862\n",
      "Epoch 10/20, Training Loss: 0.0163\n",
      "Current Learning Rate: 5e-06\n",
      "Validation Loss: 0.0438, Validation Accuracy: 0.9875\n",
      "Epoch 11/20, Training Loss: 0.0146\n",
      "Current Learning Rate: 5e-06\n",
      "Validation Loss: 0.0467, Validation Accuracy: 0.9862\n",
      "Epoch 12/20, Training Loss: 0.0132\n",
      "Current Learning Rate: 2.5e-06\n",
      "Validation Loss: 0.0460, Validation Accuracy: 0.9875\n",
      "Epoch 13/20, Training Loss: 0.0126\n",
      "Current Learning Rate: 2.5e-06\n",
      "Validation Loss: 0.0493, Validation Accuracy: 0.9875\n",
      "Epoch 14/20, Training Loss: 0.0117\n",
      "Current Learning Rate: 2.5e-06\n",
      "Validation Loss: 0.0476, Validation Accuracy: 0.9888\n",
      "Epoch 15/20, Training Loss: 0.0112\n",
      "Current Learning Rate: 1.25e-06\n",
      "Validation Loss: 0.0502, Validation Accuracy: 0.9869\n",
      "Epoch 16/20, Training Loss: 0.0092\n",
      "Current Learning Rate: 1.25e-06\n",
      "Validation Loss: 0.0552, Validation Accuracy: 0.9853\n",
      "Epoch 17/20, Training Loss: 0.0086\n",
      "Current Learning Rate: 1.25e-06\n",
      "Validation Loss: 0.0484, Validation Accuracy: 0.9881\n",
      "Epoch 18/20, Training Loss: 0.0092\n",
      "Current Learning Rate: 6.25e-07\n",
      "Validation Loss: 0.0486, Validation Accuracy: 0.9872\n",
      "Epoch 19/20, Training Loss: 0.0080\n",
      "Current Learning Rate: 6.25e-07\n",
      "Validation Loss: 0.0503, Validation Accuracy: 0.9875\n",
      "Epoch 20/20, Training Loss: 0.0101\n",
      "Current Learning Rate: 6.25e-07\n",
      "Validation Loss: 0.0572, Validation Accuracy: 0.9859\n"
     ]
    }
   ],
   "source": [
    "# Initialize lists to store losses\n",
    "training_losses = []\n",
    "validation_losses = []\n",
    "\n",
    "num_epochs = 20\n",
    "best_val_loss = float('inf')\n",
    "best_val_accuracy = 0.0\n",
    "\n",
    "for epoch in range(num_epochs):\n",
    "    model.train()\n",
    "    running_loss = 0.0\n",
    "\n",
    "    for images, labels in train_loader:\n",
    "        images = images.to(device)\n",
    "        labels = labels.float().unsqueeze(1).to(device)\n",
    "\n",
    "        optimizer.zero_grad()\n",
    "\n",
    "        outputs = model(images)\n",
    "        loss = criterion(outputs, labels)\n",
    "\n",
    "        loss.backward()\n",
    "        optimizer.step()\n",
    "\n",
    "        running_loss += loss.item() * images.size(0)\n",
    "\n",
    "    epoch_loss = running_loss / len(train_dataset)\n",
    "    training_losses.append(epoch_loss)\n",
    "    print(f'Epoch {epoch+1}/{num_epochs}, Training Loss: {epoch_loss:.4f}')\n",
    "\n",
    "    # Validation step\n",
    "    model.eval()\n",
    "    val_running_loss = 0.0\n",
    "    correct_predictions = 0\n",
    "\n",
    "    # Initialize lists to store predictions and labels\n",
    "    all_preds = []\n",
    "    all_labels = []\n",
    "\n",
    "    with torch.no_grad():\n",
    "        for val_images, val_labels in val_loader:\n",
    "            val_images = val_images.to(device)\n",
    "            val_labels = val_labels.float().unsqueeze(1).to(device)\n",
    "\n",
    "            val_outputs = model(val_images)\n",
    "            val_loss = criterion(val_outputs, val_labels)\n",
    "\n",
    "            val_running_loss += val_loss.item() * val_images.size(0)\n",
    "\n",
    "            # Calculate accuracy\n",
    "            preds = torch.sigmoid(val_outputs) >= 0.5\n",
    "            correct_predictions += torch.sum(preds == val_labels.byte())\n",
    "\n",
    "            # Collect predictions and labels\n",
    "            all_preds.extend(preds.cpu().numpy())\n",
    "            all_labels.extend(val_labels.cpu().numpy())\n",
    "\n",
    "    val_epoch_loss = val_running_loss / len(val_dataset)\n",
    "    validation_losses.append(val_epoch_loss)\n",
    "    val_accuracy = correct_predictions.double() / len(val_dataset)\n",
    "\n",
    "    # Step the scheduler based on validation loss\n",
    "    scheduler.step(val_epoch_loss)\n",
    "\n",
    "    # Print the current learning rate\n",
    "    current_lr = scheduler.get_last_lr()[0]\n",
    "    print(f'Current Learning Rate: {current_lr}')\n",
    "\n",
    "    if val_epoch_loss < best_val_loss:\n",
    "        best_val_loss = val_epoch_loss\n",
    "        best_val_accuracy = val_accuracy.item()\n",
    "        torch.save(model.state_dict(), 'best_model.pth')\n",
    "        print(f\"Saved Best Model at Epoch {epoch+1}\")\n",
    "\n",
    "    print(f'Validation Loss: {val_epoch_loss:.4f}, Validation Accuracy: {val_accuracy:.4f}')"
   ]
  },
  {
   "cell_type": "code",
   "execution_count": 14,
   "id": "02be245f",
   "metadata": {
    "execution": {
     "iopub.execute_input": "2024-12-05T12:10:51.615437Z",
     "iopub.status.busy": "2024-12-05T12:10:51.615115Z",
     "iopub.status.idle": "2024-12-05T12:10:51.888807Z",
     "shell.execute_reply": "2024-12-05T12:10:51.887878Z"
    },
    "papermill": {
     "duration": 0.282172,
     "end_time": "2024-12-05T12:10:51.890632",
     "exception": false,
     "start_time": "2024-12-05T12:10:51.608460",
     "status": "completed"
    },
    "tags": []
   },
   "outputs": [
    {
     "data": {
      "image/png": "[encoded data removed]",
      "text/plain": [
       "<Figure size 1000x500 with 1 Axes>"
      ]
     },
     "metadata": {},
     "output_type": "display_data"
    }
   ],
   "source": [
    "# Plot training and validation losses\n",
    "plt.figure(figsize=(10, 5))\n",
    "plt.plot(range(1, num_epochs + 1), training_losses, label='Training Loss')\n",
    "plt.plot(range(1, num_epochs + 1), validation_losses, label='Validation Loss')\n",
    "plt.xlabel('Epoch')\n",
    "plt.ylabel('Loss')\n",
    "plt.title('Training and Validation Loss Over Epochs')\n",
    "plt.legend()\n",
    "plt.show()"
   ]
  },
  {
   "cell_type": "code",
   "execution_count": 15,
   "id": "35e3f4f9",
   "metadata": {
    "execution": {
     "iopub.execute_input": "2024-12-05T12:10:51.904120Z",
     "iopub.status.busy": "2024-12-05T12:10:51.903837Z",
     "iopub.status.idle": "2024-12-05T12:10:52.147260Z",
     "shell.execute_reply": "2024-12-05T12:10:52.146380Z"
    },
    "papermill": {
     "duration": 0.251994,
     "end_time": "2024-12-05T12:10:52.148977",
     "exception": false,
     "start_time": "2024-12-05T12:10:51.896983",
     "status": "completed"
    },
    "tags": []
   },
   "outputs": [
    {
     "data": {
      "image/png": "[encoded data removed]",
      "text/plain": [
       "<Figure size 640x480 with 2 Axes>"
      ]
     },
     "metadata": {},
     "output_type": "display_data"
    }
   ],
   "source": [
    "# Generate confusion matrix\n",
    "# Convert lists to numpy arrays and flatten\n",
    "all_preds_np = np.array(all_preds).astype(int).flatten()\n",
    "all_labels_np = np.array(all_labels).astype(int).flatten()\n",
    "\n",
    "# Compute confusion matrix\n",
    "cm = confusion_matrix(all_labels_np, all_preds_np)\n",
    "\n",
    "# Display confusion matrix\n",
    "disp = ConfusionMatrixDisplay(confusion_matrix=cm, display_labels=['No Fire', 'Fire'])\n",
    "disp.plot(cmap=plt.cm.Blues)\n",
    "plt.title('Confusion Matrix on Validation Set')\n",
    "plt.show()"
   ]
  },
  {
   "cell_type": "code",
   "execution_count": 16,
   "id": "2e8f181a",
   "metadata": {
    "execution": {
     "iopub.execute_input": "2024-12-05T12:10:52.163744Z",
     "iopub.status.busy": "2024-12-05T12:10:52.163421Z",
     "iopub.status.idle": "2024-12-05T12:10:52.237130Z",
     "shell.execute_reply": "2024-12-05T12:10:52.236412Z"
    },
    "papermill": {
     "duration": 0.083225,
     "end_time": "2024-12-05T12:10:52.239089",
     "exception": false,
     "start_time": "2024-12-05T12:10:52.155864",
     "status": "completed"
    },
    "tags": []
   },
   "outputs": [],
   "source": [
    "# Save the best model\n",
    "torch.save(model.state_dict(), '/kaggle/working/fire_classification_model.pth')"
   ]
  }
 ],
 "metadata": {
  "kaggle": {
   "accelerator": "gpu",
   "dataSources": [
    {
     "datasetId": 6203763,
     "sourceId": 10066160,
     "sourceType": "datasetVersion"
    }
   ],
   "dockerImageVersionId": 30805,
   "isGpuEnabled": true,
   "isInternetEnabled": true,
   "language": "python",
   "sourceType": "notebook"
  },
  "kernelspec": {
   "display_name": "Python 3",
   "language": "python",
   "name": "python3"
  },
  "language_info": {
   "codemirror_mode": {
    "name": "ipython",
    "version": 3
   },
   "file_extension": ".py",
   "mimetype": "text/x-python",
   "name": "python",
   "nbconvert_exporter": "python",
   "pygments_lexer": "ipython3",
   "version": "3.10.14"
  },
  "papermill": {
   "default_parameters": {},
   "duration": 587.513364,
   "end_time": "2024-12-05T12:10:53.868638",
   "environment_variables": {},
   "exception": null,
   "input_path": "__notebook__.ipynb",
   "output_path": "__notebook__.ipynb",
   "parameters": {},
   "start_time": "2024-12-05T12:01:06.355274",
   "version": "2.6.0"
  }
 },
 "nbformat": 4,
 "nbformat_minor": 5
}
